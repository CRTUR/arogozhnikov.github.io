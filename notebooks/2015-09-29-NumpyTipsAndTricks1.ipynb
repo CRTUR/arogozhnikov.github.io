{
 "cells": [
  {
   "cell_type": "markdown",
   "metadata": {},
   "source": [
    "# Data manipulation with numpy: tips and tricks, part 1\n",
    "\n",
    "Some inobvious examples of what you can do with numpy are collected here.\n",
    "\n",
    "Examples are mostly coming from area of machine learning, but will be useful if you're doing number crunching in python."
   ]
  },
  {
   "cell_type": "code",
   "execution_count": 1,
   "metadata": {
    "collapsed": false
   },
   "outputs": [
    {
     "name": "stdout",
     "output_type": "stream",
     "text": [
      "Populating the interactive namespace from numpy and matplotlib\n"
     ]
    }
   ],
   "source": [
    "%pylab inline\n",
    "import numpy"
   ]
  },
  {
   "cell_type": "markdown",
   "metadata": {},
   "source": [
    "## 1. numpy.argsort"
   ]
  },
  {
   "cell_type": "markdown",
   "metadata": {},
   "source": [
    "### Sorting values of one array according to the other\n",
    "\n",
    "Say, we want to order the people according to their age and their heights."
   ]
  },
  {
   "cell_type": "code",
   "execution_count": 2,
   "metadata": {
    "collapsed": false
   },
   "outputs": [
    {
     "name": "stdout",
     "output_type": "stream",
     "text": [
      "[48 57 40 53 50 59 54 53 32 36]\n",
      "[166 171 202 168 156 181 195 160 153 178]\n"
     ]
    }
   ],
   "source": [
    "ages = numpy.random.randint(low=30, high=60, size=10)\n",
    "heights =  numpy.random.randint(low=150, high=210, size=10)\n",
    "print ages\n",
    "print heights"
   ]
  },
  {
   "cell_type": "code",
   "execution_count": 3,
   "metadata": {
    "collapsed": false
   },
   "outputs": [
    {
     "name": "stdout",
     "output_type": "stream",
     "text": [
      "[32 36 40 48 50 53 53 54 57 59]\n",
      "[153 178 202 166 156 168 160 195 171 181]\n"
     ]
    }
   ],
   "source": [
    "sorter = numpy.argsort(ages)\n",
    "print ages[sorter]\n",
    "print heights[sorter]"
   ]
  },
  {
   "cell_type": "markdown",
   "metadata": {},
   "source": [
    "once you computed permutation, you can apply it many times - this is fast. \n",
    "\n",
    "Frequently to solve this problem people use sorted(zip(ages, heights)), which is much slower (10-20 times slower on large arrays)."
   ]
  },
  {
   "cell_type": "markdown",
   "metadata": {},
   "source": [
    "### Computing inverse of permutation\n",
    "\n",
    "permutations in numpy are simply arrays:"
   ]
  },
  {
   "cell_type": "code",
   "execution_count": 4,
   "metadata": {
    "collapsed": false
   },
   "outputs": [
    {
     "name": "stdout",
     "output_type": "stream",
     "text": [
      "[3 6 2 5 8 0 9 1 7 4]\n",
      "['a' 'b' 'c' 'd' 'e' 'f' 'g' 'h' 'i' 'j']\n",
      "['d' 'g' 'c' 'f' 'i' 'a' 'j' 'b' 'h' 'e']\n"
     ]
    }
   ],
   "source": [
    "permutation = numpy.random.permutation(10)\n",
    "original = numpy.array(list('abcdefghij'))\n",
    "\n",
    "print permutation\n",
    "print original\n",
    "print original[permutation]"
   ]
  },
  {
   "cell_type": "markdown",
   "metadata": {},
   "source": [
    "__Inverse permutation__ is computed using numpy.argsort (again!)"
   ]
  },
  {
   "cell_type": "code",
   "execution_count": 5,
   "metadata": {
    "collapsed": false
   },
   "outputs": [
    {
     "name": "stdout",
     "output_type": "stream",
     "text": [
      "['a' 'b' 'c' 'd' 'e' 'f' 'g' 'h' 'i' 'j']\n"
     ]
    }
   ],
   "source": [
    "inverse_permutation = numpy.argsort(permutation)\n",
    "\n",
    "print original[permutation][inverse_permutation]"
   ]
  },
  {
   "cell_type": "markdown",
   "metadata": {},
   "source": [
    "__This is true because of two facts__:\n",
    "\n",
    "1. indexing operation is associative (dramatically simple and interesting fact):\n",
    "   ```\n",
    "   a[b][c] = a[b[c]]\n",
    "   ```\n",
    "   provided that `a`, `b`, `c` are 1-dimensional arrays\n",
    "   \n",
    "2. `permutation[inverse_permutation] is identical permutation:"
   ]
  },
  {
   "cell_type": "code",
   "execution_count": 6,
   "metadata": {
    "collapsed": false
   },
   "outputs": [
    {
     "data": {
      "text/plain": [
       "array([0, 1, 2, 3, 4, 5, 6, 7, 8, 9])"
      ]
     },
     "execution_count": 6,
     "metadata": {},
     "output_type": "execute_result"
    }
   ],
   "source": [
    "permutation[inverse_permutation]"
   ]
  },
  {
   "cell_type": "markdown",
   "metadata": {},
   "source": [
    "### Computing order of elements in array\n",
    "\n",
    "frequently it is important to compute order of each value in array. \n",
    "\n",
    "In other words, for each element in array we want to find the number of elements smaller than given."
   ]
  },
  {
   "cell_type": "code",
   "execution_count": 7,
   "metadata": {
    "collapsed": false
   },
   "outputs": [
    {
     "name": "stdout",
     "output_type": "stream",
     "text": [
      "[ 0.18876798  0.33988201  0.57112439  0.17273985  0.85323547  0.45800298\n",
      "  0.22264742  0.61841973  0.95750711  0.464747  ]\n",
      "[1 3 6 0 8 4 2 7 9 5]\n"
     ]
    }
   ],
   "source": [
    "data = numpy.random.random(10)\n",
    "\n",
    "print data\n",
    "print numpy.argsort(numpy.argsort(data))"
   ]
  },
  {
   "cell_type": "markdown",
   "metadata": {},
   "source": [
    "__NB:__ there is scipy function which does the same, but it's more general and faster, so prefer using it:"
   ]
  },
  {
   "cell_type": "code",
   "execution_count": 8,
   "metadata": {
    "collapsed": false
   },
   "outputs": [
    {
     "data": {
      "text/plain": [
       "array([ 1.,  3.,  6.,  0.,  8.,  4.,  2.,  7.,  9.,  5.])"
      ]
     },
     "execution_count": 8,
     "metadata": {},
     "output_type": "execute_result"
    }
   ],
   "source": [
    "from scipy.stats import rankdata\n",
    "rankdata(data) - 1"
   ]
  },
  {
   "cell_type": "markdown",
   "metadata": {},
   "source": [
    "### IronTransform (flattener of distribution)\n",
    "\n",
    "Sometimes you need to write monotonic tranformation, which turns one distribution into uniform.\n",
    "\n",
    "This method is useful to compare distributions or to work with distributions with heavy tails or strange shape."
   ]
  },
  {
   "cell_type": "code",
   "execution_count": 9,
   "metadata": {
    "collapsed": true
   },
   "outputs": [],
   "source": [
    "class IronTransform:\n",
    "    def fit(self, data, weights):\n",
    "        weights = weights / numpy.sum(weights)\n",
    "        sorter = numpy.argsort(data)\n",
    "        self.x = data[sorter]\n",
    "        self.y = numpy.cumsum(weights[sorter])\n",
    "        return self\n",
    "        \n",
    "    def transform(self, data):\n",
    "        return numpy.interp(data, self.x, self.y)"
   ]
  },
  {
   "cell_type": "markdown",
   "metadata": {},
   "source": [
    "Let's apply __Iron__ transformation to data"
   ]
  },
  {
   "cell_type": "code",
   "execution_count": 10,
   "metadata": {
    "collapsed": false
   },
   "outputs": [],
   "source": [
    "sig_pred = numpy.random.normal(size=10000) + 1\n",
    "bck_pred = numpy.random.normal(size=10000) - 1"
   ]
  },
  {
   "cell_type": "code",
   "execution_count": 11,
   "metadata": {
    "collapsed": false
   },
   "outputs": [
    {
     "data": {
      "image/png": "[encoded data removed]",
      "text/plain": [
       "<matplotlib.figure.Figure at 0x10d327350>"
      ]
     },
     "metadata": {},
     "output_type": "display_data"
    }
   ],
   "source": [
    "hist(sig_pred, bins=30, alpha=0.5)\n",
    "hist(bck_pred, bins=30, alpha=0.5)\n",
    "pass"
   ]
  },
  {
   "cell_type": "markdown",
   "metadata": {},
   "source": [
    "Now we can see that __IronTransform__ actually was able to turn signal distribution to uniform:"
   ]
  },
  {
   "cell_type": "code",
   "execution_count": 12,
   "metadata": {
    "collapsed": false
   },
   "outputs": [
    {
     "data": {
      "image/png": "[encoded data removed]",
      "text/plain": [
       "<matplotlib.figure.Figure at 0x10d456210>"
      ]
     },
     "metadata": {},
     "output_type": "display_data"
    }
   ],
   "source": [
    "iron = IronTransform().fit(sig_pred, weights=numpy.ones(len(sig_pred)))\n",
    "\n",
    "hist(iron.transform(sig_pred), bins=30, alpha=0.5)\n",
    "hist(iron.transform(bck_pred), bins=30, alpha=0.5)\n",
    "pass"
   ]
  },
  {
   "cell_type": "markdown",
   "metadata": {},
   "source": [
    "Also worth mentioning: to fight very small / large numbers, use `numpy.clip`. Simple and very handy:"
   ]
  },
  {
   "cell_type": "code",
   "execution_count": 13,
   "metadata": {
    "collapsed": false
   },
   "outputs": [
    {
     "data": {
      "text/plain": [
       "array([-15, -10,   0,  10,  15])"
      ]
     },
     "execution_count": 13,
     "metadata": {},
     "output_type": "execute_result"
    }
   ],
   "source": [
    "numpy.clip([-100, -10, 0, 10, 100], a_min=-15, a_max=15)"
   ]
  },
  {
   "cell_type": "code",
   "execution_count": 14,
   "metadata": {
    "collapsed": false
   },
   "outputs": [
    {
     "name": "stdout",
     "output_type": "stream",
     "text": [
      "[-5 -4 -3 -2 -1  0  1  2  3  4]\n",
      "[0 0 0 0 0 0 1 2 3 4]\n"
     ]
    }
   ],
   "source": [
    "x =numpy.arange(-5, 5)\n",
    "print x\n",
    "print x.clip(0)"
   ]
  },
  {
   "cell_type": "markdown",
   "metadata": {},
   "source": [
    "# 2. Broadcasting, numpy.newaxis\n",
    "\n",
    "[Broadcasting](http://docs.scipy.org/doc/numpy/user/basics.broadcasting.html) is very useful trick, which simplifies many operations."
   ]
  },
  {
   "cell_type": "markdown",
   "metadata": {
    "collapsed": true
   },
   "source": [
    "### Weighted covariation matrix\n",
    "numpy has `cov` function, but it doesn't support weights of samples. Let's write our own covariation matrix.\n",
    "\n",
    "Let $X_{ij}$ be the original data. $i$ is indexing samples, $j$ is indexing features.\n",
    "$COV_{jk} = \\sum_i X_{ij} w_i X_{ik}$"
   ]
  },
  {
   "cell_type": "code",
   "execution_count": 15,
   "metadata": {
    "collapsed": true
   },
   "outputs": [],
   "source": [
    "data = numpy.random.normal(size=[100, 5])\n",
    "weights = numpy.random.random(100)"
   ]
  },
  {
   "cell_type": "code",
   "execution_count": 16,
   "metadata": {
    "collapsed": true
   },
   "outputs": [],
   "source": [
    "def covariation(data, weights):\n",
    "    weights = weights / weights.sum()\n",
    "    return data.T.dot(weights[:, numpy.newaxis] * data)"
   ]
  },
  {
   "cell_type": "code",
   "execution_count": 17,
   "metadata": {
    "collapsed": false
   },
   "outputs": [
    {
     "data": {
      "text/plain": [
       "array([[ 0.90685165,  0.00356514, -0.12894716,  0.03937398,  0.1663906 ],\n",
       "       [ 0.00356514,  0.8246978 , -0.01201887,  0.10577941,  0.18562202],\n",
       "       [-0.12894716, -0.01201887,  1.32759486,  0.03333471, -0.08284814],\n",
       "       [ 0.03937398,  0.10577941,  0.03333471,  1.02440454, -0.06659497],\n",
       "       [ 0.1663906 ,  0.18562202, -0.08284814, -0.06659497,  0.94100981]])"
      ]
     },
     "execution_count": 17,
     "metadata": {},
     "output_type": "execute_result"
    }
   ],
   "source": [
    "numpy.cov(data.T)"
   ]
  },
  {
   "cell_type": "code",
   "execution_count": 18,
   "metadata": {
    "collapsed": false
   },
   "outputs": [
    {
     "data": {
      "text/plain": [
       "array([[  9.09816762e-01,  -3.12337423e-04,  -1.26838506e-01,\n",
       "          6.67539288e-02,   1.40262953e-01],\n",
       "       [ -3.12337423e-04,   8.17677359e-01,  -1.21602154e-02,\n",
       "          9.58546593e-02,   1.91576029e-01],\n",
       "       [ -1.26838506e-01,  -1.21602154e-02,   1.31437468e+00,\n",
       "          3.48920447e-02,  -8.36850199e-02],\n",
       "       [  6.67539288e-02,   9.58546593e-02,   3.48920447e-02,\n",
       "          1.07826235e+00,  -1.22391496e-01],\n",
       "       [  1.40262953e-01,   1.91576029e-01,  -8.36850199e-02,\n",
       "         -1.22391496e-01,   9.81333236e-01]])"
      ]
     },
     "execution_count": 18,
     "metadata": {},
     "output_type": "execute_result"
    }
   ],
   "source": [
    "covariation(data, numpy.ones(len(data)))"
   ]
  },
  {
   "cell_type": "code",
   "execution_count": 19,
   "metadata": {
    "collapsed": false
   },
   "outputs": [
    {
     "data": {
      "text/plain": [
       "array([[  9.82174593e-01,  -2.38659658e-02,  -1.52640434e-01,\n",
       "          1.59653486e-01,   1.70825366e-01],\n",
       "       [ -2.38659658e-02,   7.90875598e-01,   3.09576460e-02,\n",
       "          1.30379765e-02,   1.78000700e-01],\n",
       "       [ -1.52640434e-01,   3.09576460e-02,   1.37891092e+00,\n",
       "         -5.91108276e-04,   2.21618059e-02],\n",
       "       [  1.59653486e-01,   1.30379765e-02,  -5.91108276e-04,\n",
       "          1.05140876e+00,  -1.36853522e-01],\n",
       "       [  1.70825366e-01,   1.78000700e-01,   2.21618059e-02,\n",
       "         -1.36853522e-01,   1.11695337e+00]])"
      ]
     },
     "execution_count": 19,
     "metadata": {},
     "output_type": "execute_result"
    }
   ],
   "source": [
    "covariation(data, weights)"
   ]
  },
  {
   "cell_type": "markdown",
   "metadata": {},
   "source": [
    "alternative way to do this is via `numpy.einsum`:"
   ]
  },
  {
   "cell_type": "code",
   "execution_count": 20,
   "metadata": {
    "collapsed": false
   },
   "outputs": [
    {
     "data": {
      "text/plain": [
       "array([[  9.82174593e-01,  -2.38659658e-02,  -1.52640434e-01,\n",
       "          1.59653486e-01,   1.70825366e-01],\n",
       "       [ -2.38659658e-02,   7.90875598e-01,   3.09576460e-02,\n",
       "          1.30379765e-02,   1.78000700e-01],\n",
       "       [ -1.52640434e-01,   3.09576460e-02,   1.37891092e+00,\n",
       "         -5.91108276e-04,   2.21618059e-02],\n",
       "       [  1.59653486e-01,   1.30379765e-02,  -5.91108276e-04,\n",
       "          1.05140876e+00,  -1.36853522e-01],\n",
       "       [  1.70825366e-01,   1.78000700e-01,   2.21618059e-02,\n",
       "         -1.36853522e-01,   1.11695337e+00]])"
      ]
     },
     "execution_count": 20,
     "metadata": {},
     "output_type": "execute_result"
    }
   ],
   "source": [
    "numpy.einsum('ij, ik, i -> jk', data, data, weights / weights.sum())"
   ]
  },
  {
   "cell_type": "markdown",
   "metadata": {},
   "source": [
    "### Pearson correlation\n",
    "\n",
    "One more example of broadcasting: computation of Pearson coefficient.\n"
   ]
  },
  {
   "cell_type": "code",
   "execution_count": 21,
   "metadata": {
    "collapsed": false
   },
   "outputs": [
    {
     "data": {
      "text/plain": [
       "array([[ 1.        ,  0.0041225 , -0.11751976,  0.04085126,  0.18012069],\n",
       "       [ 0.0041225 ,  1.        , -0.01148639,  0.11508481,  0.21070992],\n",
       "       [-0.11751976, -0.01148639,  1.        ,  0.02858434, -0.07412299],\n",
       "       [ 0.04085126,  0.11508481,  0.02858434,  1.        , -0.06782794],\n",
       "       [ 0.18012069,  0.21070992, -0.07412299, -0.06782794,  1.        ]])"
      ]
     },
     "execution_count": 21,
     "metadata": {},
     "output_type": "execute_result"
    }
   ],
   "source": [
    "numpy.corrcoef(data.T)"
   ]
  },
  {
   "cell_type": "code",
   "execution_count": 22,
   "metadata": {
    "collapsed": false
   },
   "outputs": [
    {
     "data": {
      "text/plain": [
       "array([[ 1.        ,  0.0041225 , -0.11751976,  0.04085126,  0.18012069],\n",
       "       [ 0.0041225 ,  1.        , -0.01148639,  0.11508481,  0.21070992],\n",
       "       [-0.11751976, -0.01148639,  1.        ,  0.02858434, -0.07412299],\n",
       "       [ 0.04085126,  0.11508481,  0.02858434,  1.        , -0.06782794],\n",
       "       [ 0.18012069,  0.21070992, -0.07412299, -0.06782794,  1.        ]])"
      ]
     },
     "execution_count": 22,
     "metadata": {},
     "output_type": "execute_result"
    }
   ],
   "source": [
    "def my_corrcoef(data, weights):\n",
    "    data = data - numpy.average(data, axis=0, weights=weights)\n",
    "    shifted_cov = covariation(data, weights)\n",
    "    cov_diag = numpy.diag(shifted_cov)\n",
    "    return shifted_cov / numpy.sqrt(cov_diag[:, numpy.newaxis] * cov_diag[numpy.newaxis, :])\n",
    "\n",
    "my_corrcoef(data, numpy.ones(len(data)))"
   ]
  },
  {
   "cell_type": "markdown",
   "metadata": {},
   "source": [
    "### Pairwise distances between vectors\n",
    "\n",
    "we're given a set of vectors (say, 1000 vectors). The problem is to compute their pairwise distances."
   ]
  },
  {
   "cell_type": "code",
   "execution_count": 23,
   "metadata": {
    "collapsed": true
   },
   "outputs": [],
   "source": [
    "X = numpy.random.normal(size=[1000, 100])\n",
    "distances = ((X[:, numpy.newaxis, :] - X[numpy.newaxis, :, :]) ** 2).sum(axis=2) ** 0.5"
   ]
  },
  {
   "cell_type": "markdown",
   "metadata": {},
   "source": [
    "also, since algebra is you friend, you can do it times faster: \n",
    "$$||x_i - x_j||^2 = ||x_i||^2 + ||x_j||^2 - 2 (x_i, x_j) $$\n",
    "so dot products is the only thing you need."
   ]
  },
  {
   "cell_type": "code",
   "execution_count": 24,
   "metadata": {
    "collapsed": true
   },
   "outputs": [],
   "source": [
    "products = X.dot(X.T)\n",
    "distances2 = products.diagonal()[:, numpy.newaxis] + products.diagonal()[numpy.newaxis, :]  - 2 * products\n",
    "distances2 **= 0.5"
   ]
  },
  {
   "cell_type": "markdown",
   "metadata": {},
   "source": [
    "... but keep in mind there is __sklearn.metrics.pairwise__ which does it for you and has different options"
   ]
  },
  {
   "cell_type": "code",
   "execution_count": 25,
   "metadata": {
    "collapsed": false
   },
   "outputs": [
    {
     "data": {
      "text/plain": [
       "(True, True)"
      ]
     },
     "execution_count": 25,
     "metadata": {},
     "output_type": "execute_result"
    }
   ],
   "source": [
    "from sklearn.metrics.pairwise import pairwise_distances\n",
    "distances_sklearn = pairwise_distances(X)\n",
    "\n",
    "numpy.allclose(distances, distances_sklearn), numpy.allclose(distances2, distances_sklearn)"
   ]
  },
  {
   "cell_type": "markdown",
   "metadata": {},
   "source": [
    "# 3. numpy.unique, numpy.searchsorted"
   ]
  },
  {
   "cell_type": "markdown",
   "metadata": {},
   "source": [
    "### Converting categories to small integers\n",
    "\n",
    "Despite categories are easier to read, operating with them is much faster after you represent them as small numbers <br /> (for instance, in range [0, n_categories - 1])\n",
    "\n",
    "First generate some categories:"
   ]
  },
  {
   "cell_type": "code",
   "execution_count": 26,
   "metadata": {
    "collapsed": false
   },
   "outputs": [
    {
     "name": "stdout",
     "output_type": "stream",
     "text": [
      "['di' 'jk' 'ik' ..., 'dl' 'af' 'af']\n"
     ]
    }
   ],
   "source": [
    "from itertools import combinations\n",
    "possible_categories = map(lambda x: x[0] + x[1], list(combinations('abcdefghijklmn', 2)))\n",
    "categories = numpy.random.choice(possible_categories, size=10000)\n",
    "print categories"
   ]
  },
  {
   "cell_type": "markdown",
   "metadata": {},
   "source": [
    "Now we use __numpy.unique__ to convert them to numbers (pay attention to `return_inverse=True`)"
   ]
  },
  {
   "cell_type": "code",
   "execution_count": 27,
   "metadata": {
    "collapsed": false
   },
   "outputs": [],
   "source": [
    "unique_categories, new_categories = numpy.unique(categories, return_inverse=True)"
   ]
  },
  {
   "cell_type": "code",
   "execution_count": 28,
   "metadata": {
    "collapsed": false
   },
   "outputs": [
    {
     "name": "stdout",
     "output_type": "stream",
     "text": [
      "['ab' 'ac' 'ad' 'ae' 'af' 'ag' 'ah' 'ai' 'aj' 'ak' 'al' 'am' 'an' 'bc' 'bd'\n",
      " 'be' 'bf' 'bg' 'bh' 'bi' 'bj' 'bk' 'bl' 'bm' 'bn' 'cd' 'ce' 'cf' 'cg' 'ch'\n",
      " 'ci' 'cj' 'ck' 'cl' 'cm' 'cn' 'de' 'df' 'dg' 'dh' 'di' 'dj' 'dk' 'dl' 'dm'\n",
      " 'dn' 'ef' 'eg' 'eh' 'ei' 'ej' 'ek' 'el' 'em' 'en' 'fg' 'fh' 'fi' 'fj' 'fk'\n",
      " 'fl' 'fm' 'fn' 'gh' 'gi' 'gj' 'gk' 'gl' 'gm' 'gn' 'hi' 'hj' 'hk' 'hl' 'hm'\n",
      " 'hn' 'ij' 'ik' 'il' 'im' 'in' 'jk' 'jl' 'jm' 'jn' 'kl' 'km' 'kn' 'lm' 'ln'\n",
      " 'mn']\n",
      "[40 81 77 ..., 43  4  4]\n"
     ]
    }
   ],
   "source": [
    "print unique_categories\n",
    "print new_categories"
   ]
  },
  {
   "cell_type": "markdown",
   "metadata": {},
   "source": [
    "Also we can reconstruct old categories if needed:"
   ]
  },
  {
   "cell_type": "code",
   "execution_count": 29,
   "metadata": {
    "collapsed": false
   },
   "outputs": [
    {
     "name": "stdout",
     "output_type": "stream",
     "text": [
      "['di' 'jk' 'ik' ..., 'dl' 'af' 'af']\n",
      "['di' 'jk' 'ik' ..., 'dl' 'af' 'af']\n"
     ]
    }
   ],
   "source": [
    "print categories\n",
    "print unique_categories[new_categories]"
   ]
  },
  {
   "cell_type": "markdown",
   "metadata": {},
   "source": [
    "### Mapping new categories\n",
    "\n",
    "When we need to map new categories using the same lookup table, we can use `numpy.searchsorted`"
   ]
  },
  {
   "cell_type": "code",
   "execution_count": 30,
   "metadata": {
    "collapsed": false
   },
   "outputs": [
    {
     "name": "stdout",
     "output_type": "stream",
     "text": [
      "['ak' 'be' 'jn' ..., 'fg' 'dk' 'ei']\n",
      "['ak' 'be' 'jn' ..., 'fg' 'dk' 'ei']\n"
     ]
    }
   ],
   "source": [
    "categories2 = numpy.random.choice(possible_categories, size=10000)\n",
    "new_categories2 = numpy.searchsorted(unique_categories, categories2)\n",
    "print categories2\n",
    "print unique_categories[new_categories2]"
   ]
  },
  {
   "cell_type": "markdown",
   "metadata": {},
   "source": [
    "### Checking values present in the lookup\n",
    "\n",
    "Usually, we use `set` to have many checks that each element exists in array. But __numpy.unique__ is better option - it works dozens times faster."
   ]
  },
  {
   "cell_type": "code",
   "execution_count": 31,
   "metadata": {
    "collapsed": false
   },
   "outputs": [
    {
     "data": {
      "text/plain": [
       "array([ True,  True, False], dtype=bool)"
      ]
     },
     "execution_count": 31,
     "metadata": {},
     "output_type": "execute_result"
    }
   ],
   "source": [
    "numpy.in1d(['ab', 'ac', 'something new'], unique_categories)"
   ]
  },
  {
   "cell_type": "markdown",
   "metadata": {},
   "source": [
    "### Handling missing categories\n",
    "\n",
    "When some new category appears in test data, this is always a trouble. Possible solutions:\n",
    "\n",
    "* map randomly to one of present categories (this, i.e. is done by hashing trick)\n",
    "* make a special category 'unknown' where all new values will be mapped. Then special value may be chosen for it.\n",
    "  This approach is more general, but requires more efforts.\n",
    "\n",
    "Below you can find the transformer for second approach:"
   ]
  },
  {
   "cell_type": "code",
   "execution_count": 32,
   "metadata": {
    "collapsed": true
   },
   "outputs": [],
   "source": [
    "class CategoryMapper:\n",
    "    def fit(self, categories):\n",
    "        self.lookup = numpy.unique(categories)\n",
    "        return self\n",
    "        \n",
    "    def transform(self, categories):\n",
    "        \"\"\"Converts categories to numbers, 0 is reserved for new values (not present in fitted data)\"\"\"\n",
    "        return (numpy.searchsorted(self.lookup, categories) + 1) * numpy.in1d(categories, self.lookup)    "
   ]
  },
  {
   "cell_type": "code",
   "execution_count": 33,
   "metadata": {
    "collapsed": false
   },
   "outputs": [
    {
     "data": {
      "text/plain": [
       "array([1, 0])"
      ]
     },
     "execution_count": 33,
     "metadata": {},
     "output_type": "execute_result"
    }
   ],
   "source": [
    "CategoryMapper().fit(categories).transform([unique_categories[0], 'abc'])"
   ]
  },
  {
   "cell_type": "markdown",
   "metadata": {},
   "source": [
    "# 4. numpy.percentile, numpy.bincount\n"
   ]
  },
  {
   "cell_type": "markdown",
   "metadata": {},
   "source": [
    "### Splitting data into bins\n",
    "\n",
    "Splitting data into bins is frequently necessary. Simplest way done e.g. by `numpy.histogram` is splitting region with even bins of same size.\n",
    "\n",
    "This usually works poorly with distributions with long tails (or strange shape) and requires additional transformation to avoid empty or too large bins.\n",
    "\n",
    "However, for most cases creating the bins with equal number of events gives more convenient and stable results.\n",
    "Selecting the edges of bins can be done with `numpy.percentile`."
   ]
  },
  {
   "cell_type": "code",
   "execution_count": 34,
   "metadata": {
    "collapsed": false
   },
   "outputs": [
    {
     "data": {
      "image/png": "[encoded data removed]",
      "text/plain": [
       "<matplotlib.figure.Figure at 0x10d4f6fd0>"
      ]
     },
     "metadata": {},
     "output_type": "display_data"
    }
   ],
   "source": [
    "x = numpy.random.exponential(size=20000)\n",
    "_ = hist(x, bins=40)"
   ]
  },
  {
   "cell_type": "code",
   "execution_count": 35,
   "metadata": {
    "collapsed": false
   },
   "outputs": [
    {
     "data": {
      "image/png": "[encoded data removed]",
      "text/plain": [
       "<matplotlib.figure.Figure at 0x10d58f650>"
      ]
     },
     "metadata": {},
     "output_type": "display_data"
    }
   ],
   "source": [
    "edges = numpy.percentile(x, numpy.linspace(0, 100, 20))\n",
    "_ = hist(x, bins=edges, normed=True)"
   ]
  },
  {
   "cell_type": "markdown",
   "metadata": {},
   "source": [
    "the number of events within each bin is equal now."
   ]
  },
  {
   "cell_type": "markdown",
   "metadata": {},
   "source": [
    "### Defining the index of bin\n",
    "\n",
    "Use `numpy.searchsorted` to compute the index of bin for each value in `x`. (`numpy.digitize` is the other option, it does the same).\n",
    "\n",
    "`numpy.searchsorted` assumes that first array is sorted and uses binary search, so it is effective even for large amount of bins."
   ]
  },
  {
   "cell_type": "code",
   "execution_count": 36,
   "metadata": {
    "collapsed": false
   },
   "outputs": [
    {
     "data": {
      "text/plain": [
       "array([16, 10, 10, ..., 11,  8,  6])"
      ]
     },
     "execution_count": 36,
     "metadata": {},
     "output_type": "execute_result"
    }
   ],
   "source": [
    "numpy.searchsorted(edges, x)"
   ]
  },
  {
   "cell_type": "markdown",
   "metadata": {},
   "source": [
    "###  Counter\n",
    "\n",
    "Need to know number of occurences for each category? Use `numpy.bincount` to compute the statistics:"
   ]
  },
  {
   "cell_type": "code",
   "execution_count": 37,
   "metadata": {
    "collapsed": false
   },
   "outputs": [
    {
     "data": {
      "text/plain": [
       "array([40, 81, 77, ..., 43,  4,  4])"
      ]
     },
     "execution_count": 37,
     "metadata": {},
     "output_type": "execute_result"
    }
   ],
   "source": [
    "new_categories"
   ]
  },
  {
   "cell_type": "markdown",
   "metadata": {},
   "source": [
    "This will compute how many times each category present in the data:\n"
   ]
  },
  {
   "cell_type": "code",
   "execution_count": 38,
   "metadata": {
    "collapsed": false
   },
   "outputs": [
    {
     "data": {
      "text/plain": [
       "array([106, 112, 122, 112, 130, 114, 105, 105, 139, 120,  94,  96, 112,\n",
       "       112,  97, 110, 115, 122, 101,  98, 117,  98,  96, 125,  94, 120,\n",
       "       103, 101, 103, 108,  93, 103, 113, 131, 123, 107,  95, 121, 117,\n",
       "        88, 107, 106, 108, 113, 123, 120, 116, 125, 126,  92,  96, 108,\n",
       "       116, 102, 102, 101, 110, 111, 124, 112, 128,  99,  88, 113, 119,\n",
       "       124, 103, 111, 123, 126, 102,  96, 116, 117,  98, 118, 115, 110,\n",
       "       101, 106,  96, 103, 123, 120, 113, 111, 107, 102, 107, 103, 106])"
      ]
     },
     "execution_count": 38,
     "metadata": {},
     "output_type": "execute_result"
    }
   ],
   "source": [
    "numpy.bincount(new_categories)"
   ]
  },
  {
   "cell_type": "markdown",
   "metadata": {},
   "source": [
    "the same done with `collections.Counter`"
   ]
  },
  {
   "cell_type": "code",
   "execution_count": 39,
   "metadata": {
    "collapsed": false
   },
   "outputs": [
    {
     "data": {
      "text/plain": [
       "array([106, 112, 122, 112, 130, 114, 105, 105, 139, 120,  94,  96, 112,\n",
       "       112,  97, 110, 115, 122, 101,  98, 117,  98,  96, 125,  94, 120,\n",
       "       103, 101, 103, 108,  93, 103, 113, 131, 123, 107,  95, 121, 117,\n",
       "        88, 107, 106, 108, 113, 123, 120, 116, 125, 126,  92,  96, 108,\n",
       "       116, 102, 102, 101, 110, 111, 124, 112, 128,  99,  88, 113, 119,\n",
       "       124, 103, 111, 123, 126, 102,  96, 116, 117,  98, 118, 115, 110,\n",
       "       101, 106,  96, 103, 123, 120, 113, 111, 107, 102, 107, 103, 106])"
      ]
     },
     "execution_count": 39,
     "metadata": {},
     "output_type": "execute_result"
    }
   ],
   "source": [
    "from collections import Counter\n",
    "numpy.array(sorted(Counter(new_categories).items()))[:, 1]"
   ]
  },
  {
   "cell_type": "markdown",
   "metadata": {},
   "source": [
    "### Replace category with number of occurences\n",
    "\n",
    "There are several tricks important to process the categorical features. \n",
    "Most known one is one-hot encoding, but let's speak about others.\n",
    "\n",
    "One of tricks is to replace in each event category (which cannot be processed by most algorithms) with a number of times it presents in data. \n",
    "\n",
    "This can be written in __numpy__ one-liner:"
   ]
  },
  {
   "cell_type": "code",
   "execution_count": 40,
   "metadata": {
    "collapsed": false
   },
   "outputs": [
    {
     "data": {
      "text/plain": [
       "array([107, 103, 110, ..., 113, 130, 130])"
      ]
     },
     "execution_count": 40,
     "metadata": {},
     "output_type": "execute_result"
    }
   ],
   "source": [
    "numpy.bincount(new_categories)[new_categories]"
   ]
  },
  {
   "cell_type": "markdown",
   "metadata": {},
   "source": [
    "### Averaging predictions over category\n",
    "\n",
    "Another important trick: replace category with average prediction for events from this category.\n",
    "\n",
    "This is more tricky, since we need to add weights to `numpy.bincount`:"
   ]
  },
  {
   "cell_type": "code",
   "execution_count": 41,
   "metadata": {
    "collapsed": false
   },
   "outputs": [],
   "source": [
    "predictions = numpy.random.normal(size=len(new_categories))"
   ]
  },
  {
   "cell_type": "code",
   "execution_count": 42,
   "metadata": {
    "collapsed": false
   },
   "outputs": [
    {
     "data": {
      "text/plain": [
       "array([-0.12953239, -0.17997224, -0.16147434, ..., -0.11826536,\n",
       "        0.22681523,  0.22681523])"
      ]
     },
     "execution_count": 42,
     "metadata": {},
     "output_type": "execute_result"
    }
   ],
   "source": [
    "means_over_category = numpy.bincount(new_categories, weights=predictions) / numpy.bincount(new_categories)\n",
    "means_over_category[new_categories]"
   ]
  },
  {
   "cell_type": "markdown",
   "metadata": {},
   "source": [
    "### Variation of predictions over category\n",
    "\n",
    "The same trick can be applied to measure deviation after invloving some math:\n",
    "$$ \\mathbb{V}x = \\mathbb{E}x^2 - (\\mathbb{E}x)^2 $$"
   ]
  },
  {
   "cell_type": "code",
   "execution_count": 43,
   "metadata": {
    "collapsed": false
   },
   "outputs": [
    {
     "data": {
      "text/plain": [
       "array([ 1.12103301,  0.7602834 ,  1.06631312, ...,  0.9993211 ,\n",
       "        0.90302807,  0.90302807])"
      ]
     },
     "execution_count": 43,
     "metadata": {},
     "output_type": "execute_result"
    }
   ],
   "source": [
    "means_of_squares_over_category = numpy.bincount(new_categories, weights=predictions**2) / numpy.bincount(new_categories)\n",
    "var_over_category = means_of_squares_over_category - means_over_category ** 2\n",
    "var_over_category[new_categories]"
   ]
  },
  {
   "cell_type": "markdown",
   "metadata": {},
   "source": [
    "You can also assign weights to events and compute weighted mean / weighted variation using the same functions."
   ]
  },
  {
   "cell_type": "markdown",
   "metadata": {},
   "source": [
    "### Even faster inverse permutation\n",
    "\n",
    "As was said, numpy.argsort returns inverse permutation, but it takes $O(n \\log(n))$ time, while computing inverse permutation should take $O(n)$.\n",
    "\n",
    "This optimal way (`inplace sort`) can be written in numpy."
   ]
  },
  {
   "cell_type": "code",
   "execution_count": 44,
   "metadata": {
    "collapsed": false
   },
   "outputs": [
    {
     "name": "stdout",
     "output_type": "stream",
     "text": [
      "[5 7 2 0 9 3 1 8 4 6]\n",
      "[5 7 2 0 9 3 1 8 4 6]\n"
     ]
    }
   ],
   "source": [
    "print numpy.argsort(permutation)\n",
    "print numpy.bincount(permutation, numpy.arange(len(permutation))).astype(int)"
   ]
  },
  {
   "cell_type": "markdown",
   "metadata": {},
   "source": [
    "## 5. Numpy.ufunc.at\n",
    "\n",
    "To proceed futher, we need to know that there is class of binary (and unary) functions: `numpy.ufuncs`\n",
    "\n",
    "Examples: `numpy.add`, `numpy.subtract`, `numpy.multiply`, `numpy.maximum`, `numpy.minimum`\n",
    "\n",
    "In the following example we preapre a new column with max predictions over category using `ufunc.at`"
   ]
  },
  {
   "cell_type": "code",
   "execution_count": 45,
   "metadata": {
    "collapsed": false
   },
   "outputs": [
    {
     "name": "stdout",
     "output_type": "stream",
     "text": [
      "[ 3.61783384  2.46205985  2.44882542 ...,  2.89520716  2.6390576   2.6390576 ]\n"
     ]
    }
   ],
   "source": [
    "max_over_category = numpy.zeros(new_categories.max() + 1) - numpy.infty\n",
    "numpy.maximum.at(max_over_category, new_categories, predictions)\n",
    "\n",
    "print max_over_category[new_categories]"
   ]
  },
  {
   "cell_type": "markdown",
   "metadata": {},
   "source": [
    "Important note: `numpy.add.at` and `numpy.bincount` are very similar, but latter is dozens of times faster. Always prefer it to `numpy.add.at`"
   ]
  },
  {
   "cell_type": "code",
   "execution_count": 46,
   "metadata": {
    "collapsed": false
   },
   "outputs": [
    {
     "name": "stdout",
     "output_type": "stream",
     "text": [
      "100 loops, best of 3: 1.9 ms per loop\n",
      "10000 loops, best of 3: 35.4 µs per loop\n"
     ]
    }
   ],
   "source": [
    "%timeit numpy.add.at(max_over_category, new_categories, predictions)\n",
    "%timeit numpy.bincount(new_categories, weights=predictions)"
   ]
  },
  {
   "cell_type": "markdown",
   "metadata": {},
   "source": [
    "### Multidimensional statistics: numpy.add.at and smart indexing\n",
    "\n",
    "When need to compute number of times each combination met, there are two ways:\n",
    "1. convert couple of variables to new variable, e.g. by feature1 * (numpy.max(feature2) + 1) + feature2\n",
    "2. create multidimensional table\n",
    "\n",
    "I prefer first, code below is demonstration of second approach and it's benefits."
   ]
  },
  {
   "cell_type": "code",
   "execution_count": 47,
   "metadata": {
    "collapsed": false
   },
   "outputs": [],
   "source": [
    "first_category = numpy.random.randint(0, 100, len(new_categories))\n",
    "second_category = numpy.random.randint(0, 100, len(new_categories))"
   ]
  },
  {
   "cell_type": "code",
   "execution_count": 48,
   "metadata": {
    "collapsed": false
   },
   "outputs": [],
   "source": [
    "counters = numpy.zeros([first_category.max() + 1, second_category.max() + 1])\n",
    "numpy.add.at(counters, [first_category, second_category], 1)"
   ]
  },
  {
   "cell_type": "markdown",
   "metadata": {},
   "source": [
    "Now some useful things we can do with colected statistic. First thing is create feature, for which we use fancy indexing:"
   ]
  },
  {
   "cell_type": "code",
   "execution_count": 49,
   "metadata": {
    "collapsed": false
   },
   "outputs": [
    {
     "data": {
      "text/plain": [
       "array([ 3.,  2.,  3., ...,  2.,  1.,  1.])"
      ]
     },
     "execution_count": 49,
     "metadata": {},
     "output_type": "execute_result"
    }
   ],
   "source": [
    "counters[first_category, second_category]"
   ]
  },
  {
   "cell_type": "markdown",
   "metadata": {},
   "source": [
    "We can also infer different statistics like:"
   ]
  },
  {
   "cell_type": "code",
   "execution_count": 50,
   "metadata": {
    "collapsed": false
   },
   "outputs": [
    {
     "data": {
      "text/plain": [
       "array([ 105.,   84.,  116., ...,   98.,   88.,  111.])"
      ]
     },
     "execution_count": 50,
     "metadata": {},
     "output_type": "execute_result"
    }
   ],
   "source": [
    "# occurences of second category\n",
    "counters.sum(axis=0)[second_category]"
   ]
  },
  {
   "cell_type": "code",
   "execution_count": 51,
   "metadata": {
    "collapsed": false
   },
   "outputs": [
    {
     "data": {
      "text/plain": [
       "array([ 4.,  4.,  4., ...,  6.,  4.,  4.])"
      ]
     },
     "execution_count": 51,
     "metadata": {},
     "output_type": "execute_result"
    }
   ],
   "source": [
    "# maximal occurences of second category with same value of first category\n",
    "counters.max(axis=0)[second_category]"
   ]
  },
  {
   "cell_type": "code",
   "execution_count": 52,
   "metadata": {
    "collapsed": false
   },
   "outputs": [
    {
     "data": {
      "text/plain": [
       "array([ 2.,  0.,  3., ...,  0.,  1.,  1.])"
      ]
     },
     "execution_count": 52,
     "metadata": {},
     "output_type": "execute_result"
    }
   ],
   "source": [
    "# number of occurences of second category with fixed first category:\n",
    "counters[42, second_category]"
   ]
  },
  {
   "cell_type": "markdown",
   "metadata": {},
   "source": [
    "* you are not limited to numpy.add, remember there are other ufuncs.\n",
    "* Few space to keep whole matrix? Use `scipy.sparse` if there are too many zero elements. \n",
    "  Alternatively, you can use matrix decompositions to keep approximation of matrix and compute result on-the-fly."
   ]
  },
  {
   "cell_type": "markdown",
   "metadata": {},
   "source": [
    "### Computing ROC curve\n",
    "\n",
    "As an important exercise, let's implement the computation of ROC curve. \n",
    "\n",
    "We will write the same as `sklearn.metrics.roc_curve`, \n",
    "but this time no C++, only `numpy`.\n",
    "\n",
    "ROC curve takes three arrays: labels (binary, 0 or 1), predictions (real-valued) and weights."
   ]
  },
  {
   "cell_type": "code",
   "execution_count": 53,
   "metadata": {
    "collapsed": true
   },
   "outputs": [],
   "source": [
    "def roc_curve(labels, predictions, sample_weight):\n",
    "    sig_weights = sample_weight * (labels == 1)\n",
    "    bck_weights = sample_weight * (labels == 0)\n",
    "    thresholds, predictions = numpy.unique(predictions, return_inverse=True)\n",
    "    tpr = numpy.bincount(predictions, weights=sig_weights)[::-1].cumsum()\n",
    "    fpr = numpy.bincount(predictions, weights=bck_weights)[::-1].cumsum()\n",
    "    tpr /= tpr[-1]\n",
    "    fpr /= fpr[-1]\n",
    "    return fpr, tpr, thresholds[::-1]"
   ]
  },
  {
   "cell_type": "code",
   "execution_count": 54,
   "metadata": {
    "collapsed": true
   },
   "outputs": [],
   "source": [
    "numpy.random.seed(1)\n",
    "size = 1000\n",
    "labels = (numpy.random.random(size) > 0.5) * 1\n",
    "predictions = numpy.random.normal(size=size)\n",
    "weights = numpy.random.exponential(size=size)"
   ]
  },
  {
   "cell_type": "code",
   "execution_count": 55,
   "metadata": {
    "collapsed": false
   },
   "outputs": [],
   "source": [
    "fpr1, tpr1, thr1 = roc_curve(labels, predictions, weights)"
   ]
  },
  {
   "cell_type": "code",
   "execution_count": 56,
   "metadata": {
    "collapsed": false
   },
   "outputs": [
    {
     "data": {
      "text/plain": [
       "(True, True, True)"
      ]
     },
     "execution_count": 56,
     "metadata": {},
     "output_type": "execute_result"
    }
   ],
   "source": [
    "# sometims sklearn adds one more element to all arrays.\n",
    "# I have no idea why this is needed and when, but in this case all answers turn to False\n",
    "from sklearn.metrics import roc_curve as sklearn_roc_curve\n",
    "fpr2, tpr2, thr2 = sklearn_roc_curve(labels, predictions, sample_weight=weights)\n",
    "numpy.allclose(fpr1, fpr2), numpy.allclose(tpr1, tpr2), numpy.allclose(thr1, thr2)"
   ]
  },
  {
   "cell_type": "markdown",
   "metadata": {},
   "source": [
    "### Weighted Kolmogorov-Smirnov distance\n",
    "\n",
    "ROC curve is an important object by itself and freqently used in ML to compare distribution, \n",
    "but the magic is that it contains all order-based information about original distributions.\n",
    "\n",
    "Next we compute KS distance based on ROC curve:\n",
    "\n",
    "$$ KS = \\max_x \\left| F_1(x) - F_2(x) \\right| $$\n",
    "\n",
    "(Order-based information == information, which is preserved under monotonic transformations)"
   ]
  },
  {
   "cell_type": "code",
   "execution_count": 57,
   "metadata": {
    "collapsed": true
   },
   "outputs": [],
   "source": [
    "def ks_2samp(distribution1, distribution2, weights1, weights2):\n",
    "    labels = numpy.array([0] * len(distribution1) + [1] * len(distribution2))\n",
    "    predictions = numpy.concatenate([distribution1, distribution2])\n",
    "    weights = numpy.concatenate([weights1, weights2])\n",
    "\n",
    "    fpr, tpr, _ = roc_curve(labels, predictions, sample_weight=weights)\n",
    "    return numpy.max(numpy.abs(fpr - tpr))"
   ]
  },
  {
   "cell_type": "code",
   "execution_count": 58,
   "metadata": {
    "collapsed": true
   },
   "outputs": [],
   "source": [
    "data1 = numpy.random.normal(loc=0, size=size)\n",
    "data2 = numpy.random.normal(loc=1, size=size)\n",
    "weights1 = numpy.random.exponential(size=size) \n",
    "weights2 = numpy.random.exponential(size=size) "
   ]
  },
  {
   "cell_type": "markdown",
   "metadata": {},
   "source": [
    "__Compare results__ with standard function:"
   ]
  },
  {
   "cell_type": "code",
   "execution_count": 59,
   "metadata": {
    "collapsed": false
   },
   "outputs": [
    {
     "name": "stdout",
     "output_type": "stream",
     "text": [
      "0.416\n",
      "0.416\n"
     ]
    }
   ],
   "source": [
    "from scipy.stats import ks_2samp as ks_2samp_scipy\n",
    "print ks_2samp(data1, data2, weights1=numpy.ones(size), weights2=numpy.ones(size))\n",
    "print ks_2samp_scipy(data1, data2)[0]"
   ]
  },
  {
   "cell_type": "markdown",
   "metadata": {},
   "source": [
    "Important moment that written function supports weights, while scipy version doesn't."
   ]
  },
  {
   "cell_type": "markdown",
   "metadata": {},
   "source": [
    "## Conclusion\n",
    "\n",
    "Many things can be written in numpy in efficient way, moreover resulting code will be short and (surpise!) more readable. \n",
    "\n",
    "But this skill requires much practice.\n",
    "\n",
    "## See also\n",
    "\n",
    "* Second part of post: [numpy tips and tricks 2](/2015/09/30/NumpyTipsAndTricks2.html)\n",
    "* [Numpy log-likelihood benchmark](/2015/09/08/SpeedBenchmarks.html)\n"
   ]
  }
 ],
 "metadata": {
  "kernelspec": {
   "display_name": "Python 2",
   "language": "python",
   "name": "python2"
  },
  "language_info": {
   "codemirror_mode": {
    "name": "ipython",
    "version": 2
   },
   "file_extension": ".py",
   "mimetype": "text/x-python",
   "name": "python",
   "nbconvert_exporter": "python",
   "pygments_lexer": "ipython2",
   "version": "2.7.5"
  }
 },
 "nbformat": 4,
 "nbformat_minor": 0
}
