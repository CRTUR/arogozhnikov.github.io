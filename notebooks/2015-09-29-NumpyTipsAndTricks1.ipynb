{
 "cells": [
  {
   "cell_type": "markdown",
   "metadata": {},
   "source": [
    "# Data manipulation with numpy: tips and tricks, part 1\n",
    "\n",
    "Some inobvious examples of what you can do with numpy are collected here.\n",
    "\n",
    "Examples are mostly coming from area of machine learning, but will be useful if you're doing number crunching in python."
   ]
  },
  {
   "cell_type": "code",
   "execution_count": 1,
   "metadata": {
    "collapsed": false
   },
   "outputs": [],
   "source": [
    "from __future__ import print_function # for python 2 & python 3 compaitibility\n",
    "%matplotlib inline\n",
    "import numpy as np"
   ]
  },
  {
   "cell_type": "markdown",
   "metadata": {},
   "source": [
    "## 1. numpy.argsort"
   ]
  },
  {
   "cell_type": "markdown",
   "metadata": {},
   "source": [
    "### Sorting values of one array according to the other\n",
    "\n",
    "Say, we want to order the people according to their age and their heights."
   ]
  },
  {
   "cell_type": "code",
   "execution_count": 2,
   "metadata": {
    "collapsed": false
   },
   "outputs": [
    {
     "name": "stdout",
     "output_type": "stream",
     "text": [
      "[46 56 33 38 46 31 45 40 58 41]\n",
      "[193 156 190 164 189 206 153 189 165 180]\n"
     ]
    }
   ],
   "source": [
    "ages = np.random.randint(low=30, high=60, size=10)\n",
    "heights = np.random.randint(low=150, high=210, size=10)\n",
    "\n",
    "print(ages)\n",
    "print(heights)"
   ]
  },
  {
   "cell_type": "code",
   "execution_count": 3,
   "metadata": {
    "collapsed": false
   },
   "outputs": [
    {
     "name": "stdout",
     "output_type": "stream",
     "text": [
      "[31 33 38 40 41 45 46 46 56 58]\n",
      "[206 190 164 189 180 153 193 189 156 165]\n"
     ]
    }
   ],
   "source": [
    "sorter = np.argsort(ages)\n",
    "print(ages[sorter])\n",
    "print(heights[sorter])"
   ]
  },
  {
   "cell_type": "markdown",
   "metadata": {},
   "source": [
    "once you computed permutation, you can apply it many times - this is fast. \n",
    "\n",
    "Frequently to solve this problem people use sorted(zip(ages, heights)), which is much slower (10-20 times slower on large arrays)."
   ]
  },
  {
   "cell_type": "markdown",
   "metadata": {},
   "source": [
    "### Computing inverse of permutation\n",
    "\n",
    "permutations in numpy are simply arrays:"
   ]
  },
  {
   "cell_type": "code",
   "execution_count": 4,
   "metadata": {
    "collapsed": false
   },
   "outputs": [
    {
     "name": "stdout",
     "output_type": "stream",
     "text": [
      "[9 6 1 0 7 8 5 2 4 3]\n",
      "['a' 'b' 'c' 'd' 'e' 'f' 'g' 'h' 'i' 'j']\n",
      "['j' 'g' 'b' 'a' 'h' 'i' 'f' 'c' 'e' 'd']\n"
     ]
    }
   ],
   "source": [
    "permutation = np.random.permutation(10)\n",
    "original = np.array(list('abcdefghij'))\n",
    "\n",
    "print(permutation)\n",
    "print(original)\n",
    "print(original[permutation])"
   ]
  },
  {
   "cell_type": "markdown",
   "metadata": {},
   "source": [
    "__Inverse permutation__ is computed using numpy.argsort (again!)"
   ]
  },
  {
   "cell_type": "code",
   "execution_count": 5,
   "metadata": {
    "collapsed": false
   },
   "outputs": [
    {
     "name": "stdout",
     "output_type": "stream",
     "text": [
      "['a' 'b' 'c' 'd' 'e' 'f' 'g' 'h' 'i' 'j']\n"
     ]
    }
   ],
   "source": [
    "inverse_permutation = np.argsort(permutation)\n",
    "\n",
    "print(original[permutation][inverse_permutation])"
   ]
  },
  {
   "cell_type": "markdown",
   "metadata": {},
   "source": [
    "__This is true because of two facts__:\n",
    "\n",
    "1. indexing operation is associative (dramatically simple and interesting fact):\n",
    "   ```\n",
    "   a[b][c] = a[b[c]]\n",
    "   ```\n",
    "   provided that `a`, `b`, `c` are 1-dimensional arrays\n",
    "   \n",
    "2. `permutation[inverse_permutation] is identical permutation:"
   ]
  },
  {
   "cell_type": "code",
   "execution_count": 6,
   "metadata": {
    "collapsed": false
   },
   "outputs": [
    {
     "data": {
      "text/plain": [
       "array([0, 1, 2, 3, 4, 5, 6, 7, 8, 9])"
      ]
     },
     "execution_count": 6,
     "metadata": {},
     "output_type": "execute_result"
    }
   ],
   "source": [
    "permutation[inverse_permutation]"
   ]
  },
  {
   "cell_type": "markdown",
   "metadata": {},
   "source": [
    "### Computing order of elements in array\n",
    "\n",
    "frequently it is important to compute order of each value in array. \n",
    "\n",
    "In other words, for each element in array we want to find the number of elements smaller than given."
   ]
  },
  {
   "cell_type": "code",
   "execution_count": 7,
   "metadata": {
    "collapsed": false
   },
   "outputs": [
    {
     "name": "stdout",
     "output_type": "stream",
     "text": [
      "[ 0.43921505  0.60439554  0.10663623  0.72806766  0.7206455   0.11966843\n",
      "  0.08749422  0.8063159   0.00212665  0.13166206]\n",
      "[5 6 2 8 7 3 1 9 0 4]\n"
     ]
    }
   ],
   "source": [
    "data = np.random.random(10)\n",
    "\n",
    "print(data)\n",
    "print(np.argsort(np.argsort(data)))"
   ]
  },
  {
   "cell_type": "markdown",
   "metadata": {},
   "source": [
    "__NB:__ there is scipy function which does the same, but it's more general and faster, so prefer using it:"
   ]
  },
  {
   "cell_type": "code",
   "execution_count": 8,
   "metadata": {
    "collapsed": false
   },
   "outputs": [
    {
     "data": {
      "text/plain": [
       "array([ 5.,  6.,  2.,  8.,  7.,  3.,  1.,  9.,  0.,  4.])"
      ]
     },
     "execution_count": 8,
     "metadata": {},
     "output_type": "execute_result"
    }
   ],
   "source": [
    "from scipy.stats import rankdata\n",
    "rankdata(data) - 1"
   ]
  },
  {
   "cell_type": "markdown",
   "metadata": {},
   "source": [
    "### IronTransform (flattener of distribution)\n",
    "\n",
    "Sometimes you need to write monotonic tranformation, which turns one distribution into uniform.\n",
    "\n",
    "This method is useful to compare distributions or to work with distributions with heavy tails or strange shape."
   ]
  },
  {
   "cell_type": "code",
   "execution_count": 9,
   "metadata": {
    "collapsed": true
   },
   "outputs": [],
   "source": [
    "class IronTransform:\n",
    "    def fit(self, data, weights):\n",
    "        weights = weights / weights.sum()\n",
    "        sorter = np.argsort(data)\n",
    "        self.x = data[sorter]\n",
    "        self.y = np.cumsum(weights[sorter])\n",
    "        return self\n",
    "        \n",
    "    def transform(self, data):\n",
    "        return np.interp(data, self.x, self.y)"
   ]
  },
  {
   "cell_type": "markdown",
   "metadata": {},
   "source": [
    "Let's apply __Iron__ transformation to data"
   ]
  },
  {
   "cell_type": "code",
   "execution_count": 10,
   "metadata": {
    "collapsed": false
   },
   "outputs": [],
   "source": [
    "sig_pred = np.random.normal(size=10000) + 1\n",
    "bck_pred = np.random.normal(size=10000) - 1"
   ]
  },
  {
   "cell_type": "code",
   "execution_count": 11,
   "metadata": {
    "collapsed": false
   },
   "outputs": [
    {
     "data": {
      "image/png": "[encoded data removed]",
      "text/plain": [
       "<matplotlib.figure.Figure at 0x10ac270d0>"
      ]
     },
     "metadata": {},
     "output_type": "display_data"
    }
   ],
   "source": [
    "from matplotlib import pyplot as plt\n",
    "plt.figure()\n",
    "plt.hist(sig_pred, bins=30, alpha=0.5)\n",
    "plt.hist(bck_pred, bins=30, alpha=0.5)\n",
    "plt.show()"
   ]
  },
  {
   "cell_type": "markdown",
   "metadata": {},
   "source": [
    "Now we can see that __IronTransform__ actually was able to turn signal distribution to uniform:"
   ]
  },
  {
   "cell_type": "code",
   "execution_count": 12,
   "metadata": {
    "collapsed": false
   },
   "outputs": [
    {
     "data": {
      "image/png": "[encoded data removed]",
      "text/plain": [
       "<matplotlib.figure.Figure at 0x10ac30b50>"
      ]
     },
     "metadata": {},
     "output_type": "display_data"
    }
   ],
   "source": [
    "iron = IronTransform().fit(sig_pred, weights=np.ones(len(sig_pred)))\n",
    "\n",
    "plt.figure()\n",
    "plt.hist(iron.transform(sig_pred), bins=30, alpha=0.5)\n",
    "plt.hist(iron.transform(bck_pred), bins=30, alpha=0.5)\n",
    "plt.show()"
   ]
  },
  {
   "cell_type": "markdown",
   "metadata": {},
   "source": [
    "### How IronTransform works\n",
    "\n",
    "To turn any distribution into uniform, you should use mapping:\n",
    "$x \\to F(x)$, here $F(x)$ is cumulative distribution function. \n",
    "\n",
    "In other words, for each point $x$ we should compute the part of distribution to the left. \n",
    "This was done by summing all weights to this point using `numpy.cumsum` (we also had to normalize weights).\n",
    "\n",
    "To use the learned mapping, linear interpolation (`numpy.interp`) was applied.\n",
    "We can visualize this mapping:"
   ]
  },
  {
   "cell_type": "code",
   "execution_count": 13,
   "metadata": {
    "collapsed": false
   },
   "outputs": [
    {
     "data": {
      "text/plain": [
       "[<matplotlib.lines.Line2D at 0x10ae73290>]"
      ]
     },
     "execution_count": 13,
     "metadata": {},
     "output_type": "execute_result"
    },
    {
     "data": {
      "image/png": "[encoded data removed]",
      "text/plain": [
       "<matplotlib.figure.Figure at 0x10ac32c50>"
      ]
     },
     "metadata": {},
     "output_type": "display_data"
    }
   ],
   "source": [
    "plt.plot(iron.x, iron.y)"
   ]
  },
  {
   "cell_type": "markdown",
   "metadata": {},
   "source": [
    "Also worth mentioning: to fight very small / large numbers, use `numpy.clip`. Simple and very handy:"
   ]
  },
  {
   "cell_type": "code",
   "execution_count": 14,
   "metadata": {
    "collapsed": false
   },
   "outputs": [
    {
     "data": {
      "text/plain": [
       "array([-15, -10,   0,  10,  15])"
      ]
     },
     "execution_count": 14,
     "metadata": {},
     "output_type": "execute_result"
    }
   ],
   "source": [
    "np.clip([-100, -10, 0, 10, 100], a_min=-15, a_max=15)"
   ]
  },
  {
   "cell_type": "code",
   "execution_count": 15,
   "metadata": {
    "collapsed": false
   },
   "outputs": [
    {
     "name": "stdout",
     "output_type": "stream",
     "text": [
      "[-5 -4 -3 -2 -1  0  1  2  3  4]\n",
      "[0 0 0 0 0 0 1 2 3 4]\n"
     ]
    }
   ],
   "source": [
    "x = np.arange(-5, 5)\n",
    "print(x)\n",
    "print(x.clip(0))"
   ]
  },
  {
   "cell_type": "markdown",
   "metadata": {},
   "source": [
    "# 2. Broadcasting, numpy.newaxis\n",
    "\n",
    "[Broadcasting](http://docs.scipy.org/doc/numpy/user/basics.broadcasting.html) is very useful trick, which simplifies many operations."
   ]
  },
  {
   "cell_type": "markdown",
   "metadata": {
    "collapsed": true
   },
   "source": [
    "### Weighted covariation matrix\n",
    "numpy has `cov` function, but it doesn't support weights of samples. Let's write our own covariation matrix.\n",
    "\n",
    "Let $X_{ij}$ be the original data. $i$ is indexing samples, $j$ is indexing features.\n",
    "$COV_{jk} = \\sum_i X_{ij} w_i X_{ik}$"
   ]
  },
  {
   "cell_type": "code",
   "execution_count": 16,
   "metadata": {
    "collapsed": true
   },
   "outputs": [],
   "source": [
    "data = np.random.normal(size=[100, 5])\n",
    "weights = np.random.random(100)"
   ]
  },
  {
   "cell_type": "code",
   "execution_count": 17,
   "metadata": {
    "collapsed": true
   },
   "outputs": [],
   "source": [
    "def covariation(data, weights):\n",
    "    weights = weights / weights.sum()\n",
    "    return data.T.dot(weights[:, np.newaxis] * data)"
   ]
  },
  {
   "cell_type": "code",
   "execution_count": 18,
   "metadata": {
    "collapsed": false
   },
   "outputs": [
    {
     "data": {
      "text/plain": [
       "array([[ 0.88890211,  0.01909778, -0.09148101, -0.02988674, -0.03861163],\n",
       "       [ 0.01909778,  1.13721745, -0.1723531 , -0.10818395,  0.07268447],\n",
       "       [-0.09148101, -0.1723531 ,  1.1477238 ,  0.28418309, -0.06470338],\n",
       "       [-0.02988674, -0.10818395,  0.28418309,  0.93714559,  0.01905542],\n",
       "       [-0.03861163,  0.07268447, -0.06470338,  0.01905542,  0.78147565]])"
      ]
     },
     "execution_count": 18,
     "metadata": {},
     "output_type": "execute_result"
    }
   ],
   "source": [
    "np.cov(data.T)"
   ]
  },
  {
   "cell_type": "code",
   "execution_count": 19,
   "metadata": {
    "collapsed": false
   },
   "outputs": [
    {
     "data": {
      "text/plain": [
       "array([[ 0.91323076,  0.03607582, -0.06028663, -0.02169456, -0.04973832],\n",
       "       [ 0.03607582,  1.13471933, -0.15497915, -0.10302234,  0.06600708],\n",
       "       [-0.06028663, -0.15497915,  1.16384791,  0.28853641, -0.07455084],\n",
       "       [-0.02169456, -0.10302234,  0.28853641,  0.92964978,  0.01612915],\n",
       "       [-0.04973832,  0.06600708, -0.07455084,  0.01612915,  0.77765108]])"
      ]
     },
     "execution_count": 19,
     "metadata": {},
     "output_type": "execute_result"
    }
   ],
   "source": [
    "covariation(data, np.ones(len(data)))"
   ]
  },
  {
   "cell_type": "code",
   "execution_count": 20,
   "metadata": {
    "collapsed": false
   },
   "outputs": [
    {
     "data": {
      "text/plain": [
       "array([[ 0.93191566,  0.02648263,  0.01068593,  0.0200474 , -0.09858467],\n",
       "       [ 0.02648263,  1.19083162, -0.13379982, -0.12734206,  0.08361008],\n",
       "       [ 0.01068593, -0.13379982,  1.24313924,  0.37213418, -0.03309349],\n",
       "       [ 0.0200474 , -0.12734206,  0.37213418,  0.89748935,  0.10450732],\n",
       "       [-0.09858467,  0.08361008, -0.03309349,  0.10450732,  0.73405636]])"
      ]
     },
     "execution_count": 20,
     "metadata": {},
     "output_type": "execute_result"
    }
   ],
   "source": [
    "covariation(data, weights)"
   ]
  },
  {
   "cell_type": "markdown",
   "metadata": {},
   "source": [
    "alternative way to do this is via `numpy.einsum`:"
   ]
  },
  {
   "cell_type": "code",
   "execution_count": 21,
   "metadata": {
    "collapsed": false
   },
   "outputs": [
    {
     "data": {
      "text/plain": [
       "array([[ 0.93191566,  0.02648263,  0.01068593,  0.0200474 , -0.09858467],\n",
       "       [ 0.02648263,  1.19083162, -0.13379982, -0.12734206,  0.08361008],\n",
       "       [ 0.01068593, -0.13379982,  1.24313924,  0.37213418, -0.03309349],\n",
       "       [ 0.0200474 , -0.12734206,  0.37213418,  0.89748935,  0.10450732],\n",
       "       [-0.09858467,  0.08361008, -0.03309349,  0.10450732,  0.73405636]])"
      ]
     },
     "execution_count": 21,
     "metadata": {},
     "output_type": "execute_result"
    }
   ],
   "source": [
    "np.einsum('ij, ik, i -> jk', data, data, weights / weights.sum())"
   ]
  },
  {
   "cell_type": "markdown",
   "metadata": {},
   "source": [
    "### Pearson correlation\n",
    "\n",
    "One more example of broadcasting: computation of Pearson coefficient.\n"
   ]
  },
  {
   "cell_type": "code",
   "execution_count": 22,
   "metadata": {
    "collapsed": false
   },
   "outputs": [
    {
     "data": {
      "text/plain": [
       "array([[ 1.        ,  0.01899477, -0.0905702 , -0.03274523, -0.04632692],\n",
       "       [ 0.01899477,  1.        , -0.15086158, -0.10479427,  0.07710138],\n",
       "       [-0.0905702 , -0.15086158,  1.        ,  0.27401605, -0.06832042],\n",
       "       [-0.03274523, -0.10479427,  0.27401605,  1.        ,  0.02226677],\n",
       "       [-0.04632692,  0.07710138, -0.06832042,  0.02226677,  1.        ]])"
      ]
     },
     "execution_count": 22,
     "metadata": {},
     "output_type": "execute_result"
    }
   ],
   "source": [
    "np.corrcoef(data.T)"
   ]
  },
  {
   "cell_type": "code",
   "execution_count": 23,
   "metadata": {
    "collapsed": false
   },
   "outputs": [
    {
     "data": {
      "text/plain": [
       "array([[ 1.        ,  0.01899477, -0.0905702 , -0.03274523, -0.04632692],\n",
       "       [ 0.01899477,  1.        , -0.15086158, -0.10479427,  0.07710138],\n",
       "       [-0.0905702 , -0.15086158,  1.        ,  0.27401605, -0.06832042],\n",
       "       [-0.03274523, -0.10479427,  0.27401605,  1.        ,  0.02226677],\n",
       "       [-0.04632692,  0.07710138, -0.06832042,  0.02226677,  1.        ]])"
      ]
     },
     "execution_count": 23,
     "metadata": {},
     "output_type": "execute_result"
    }
   ],
   "source": [
    "def my_corrcoef(data, weights):\n",
    "    data = data - np.average(data, axis=0, weights=weights)\n",
    "    shifted_cov = covariation(data, weights)\n",
    "    cov_diag = np.diag(shifted_cov)\n",
    "    return shifted_cov / np.sqrt(cov_diag[:, np.newaxis] * cov_diag[np.newaxis, :])\n",
    "\n",
    "my_corrcoef(data, np.ones(len(data)))"
   ]
  },
  {
   "cell_type": "markdown",
   "metadata": {},
   "source": [
    "### Pairwise distances between vectors\n",
    "\n",
    "we're given a set of vectors (say, 1000 vectors). The problem is to compute their pairwise distances."
   ]
  },
  {
   "cell_type": "code",
   "execution_count": 24,
   "metadata": {
    "collapsed": true
   },
   "outputs": [],
   "source": [
    "X = np.random.normal(size=[1000, 100])\n",
    "distances = ((X[:, np.newaxis, :] - X[np.newaxis, :, :]) ** 2).sum(axis=2) ** 0.5"
   ]
  },
  {
   "cell_type": "markdown",
   "metadata": {},
   "source": [
    "also, since algebra is you friend, you can do it times faster: \n",
    "$$||x_i - x_j||^2 = ||x_i||^2 + ||x_j||^2 - 2 (x_i, x_j) $$\n",
    "so dot products is the only thing you need."
   ]
  },
  {
   "cell_type": "code",
   "execution_count": 25,
   "metadata": {
    "collapsed": true
   },
   "outputs": [],
   "source": [
    "products = X.dot(X.T)\n",
    "distances2 = products.diagonal()[:, np.newaxis] + products.diagonal()[np.newaxis, :]  - 2 * products\n",
    "distances2 **= 0.5"
   ]
  },
  {
   "cell_type": "markdown",
   "metadata": {},
   "source": [
    "... but keep in mind there is __sklearn.metrics.pairwise__ which does it for you and has different options"
   ]
  },
  {
   "cell_type": "code",
   "execution_count": 26,
   "metadata": {
    "collapsed": false
   },
   "outputs": [
    {
     "data": {
      "text/plain": [
       "(True, True)"
      ]
     },
     "execution_count": 26,
     "metadata": {},
     "output_type": "execute_result"
    }
   ],
   "source": [
    "from sklearn.metrics.pairwise import pairwise_distances\n",
    "distances_sklearn = pairwise_distances(X)\n",
    "\n",
    "np.allclose(distances, distances_sklearn), np.allclose(distances2, distances_sklearn)"
   ]
  },
  {
   "cell_type": "markdown",
   "metadata": {},
   "source": [
    "# 3. numpy.unique, numpy.searchsorted"
   ]
  },
  {
   "cell_type": "markdown",
   "metadata": {},
   "source": [
    "### Converting categories to small integers\n",
    "\n",
    "Despite categories are easier to read, operating with them is much faster after you represent them as small numbers <br /> (for instance, in range [0, n_categories - 1])\n",
    "\n",
    "First generate some categories:"
   ]
  },
  {
   "cell_type": "code",
   "execution_count": 27,
   "metadata": {
    "collapsed": false
   },
   "outputs": [
    {
     "name": "stdout",
     "output_type": "stream",
     "text": [
      "['dg' 'ci' 'dh' ..., 'mn' 'ln' 'bd']\n"
     ]
    }
   ],
   "source": [
    "from itertools import combinations\n",
    "possible_categories = map(lambda x: x[0] + x[1], list(combinations('abcdefghijklmn', 2)))\n",
    "categories = np.random.choice(possible_categories, size=10000)\n",
    "print(categories)"
   ]
  },
  {
   "cell_type": "markdown",
   "metadata": {},
   "source": [
    "Now we use __numpy.unique__ to convert them to numbers (pay attention to `return_inverse=True`)"
   ]
  },
  {
   "cell_type": "code",
   "execution_count": 28,
   "metadata": {
    "collapsed": false
   },
   "outputs": [],
   "source": [
    "unique_categories, new_categories = np.unique(categories, return_inverse=True)"
   ]
  },
  {
   "cell_type": "code",
   "execution_count": 29,
   "metadata": {
    "collapsed": false
   },
   "outputs": [
    {
     "name": "stdout",
     "output_type": "stream",
     "text": [
      "['ab' 'ac' 'ad' 'ae' 'af' 'ag' 'ah' 'ai' 'aj' 'ak' 'al' 'am' 'an' 'bc' 'bd'\n",
      " 'be' 'bf' 'bg' 'bh' 'bi' 'bj' 'bk' 'bl' 'bm' 'bn' 'cd' 'ce' 'cf' 'cg' 'ch'\n",
      " 'ci' 'cj' 'ck' 'cl' 'cm' 'cn' 'de' 'df' 'dg' 'dh' 'di' 'dj' 'dk' 'dl' 'dm'\n",
      " 'dn' 'ef' 'eg' 'eh' 'ei' 'ej' 'ek' 'el' 'em' 'en' 'fg' 'fh' 'fi' 'fj' 'fk'\n",
      " 'fl' 'fm' 'fn' 'gh' 'gi' 'gj' 'gk' 'gl' 'gm' 'gn' 'hi' 'hj' 'hk' 'hl' 'hm'\n",
      " 'hn' 'ij' 'ik' 'il' 'im' 'in' 'jk' 'jl' 'jm' 'jn' 'kl' 'km' 'kn' 'lm' 'ln'\n",
      " 'mn']\n",
      "[38 30 39 ..., 90 89 14]\n"
     ]
    }
   ],
   "source": [
    "print(unique_categories)\n",
    "print(new_categories)"
   ]
  },
  {
   "cell_type": "markdown",
   "metadata": {},
   "source": [
    "Also we can reconstruct old categories if needed:"
   ]
  },
  {
   "cell_type": "code",
   "execution_count": 30,
   "metadata": {
    "collapsed": false
   },
   "outputs": [
    {
     "name": "stdout",
     "output_type": "stream",
     "text": [
      "['dg' 'ci' 'dh' ..., 'mn' 'ln' 'bd']\n",
      "['dg' 'ci' 'dh' ..., 'mn' 'ln' 'bd']\n"
     ]
    }
   ],
   "source": [
    "print(categories)\n",
    "print(unique_categories[new_categories])"
   ]
  },
  {
   "cell_type": "markdown",
   "metadata": {},
   "source": [
    "### Mapping new categories\n",
    "\n",
    "When we need to map new categories using the same lookup table, we can use `numpy.searchsorted`"
   ]
  },
  {
   "cell_type": "code",
   "execution_count": 31,
   "metadata": {
    "collapsed": false
   },
   "outputs": [
    {
     "name": "stdout",
     "output_type": "stream",
     "text": [
      "['ac' 'aj' 'fi' ..., 'el' 'hl' 'ej']\n",
      "['ac' 'aj' 'fi' ..., 'el' 'hl' 'ej']\n"
     ]
    }
   ],
   "source": [
    "categories2 = np.random.choice(possible_categories, size=10000)\n",
    "new_categories2 = np.searchsorted(unique_categories, categories2)\n",
    "print(categories2)\n",
    "print(unique_categories[new_categories2])"
   ]
  },
  {
   "cell_type": "markdown",
   "metadata": {},
   "source": [
    "### Checking values present in the lookup\n",
    "\n",
    "Usually, we use `set` to have many checks that each element exists in array. But __numpy.unique__ is better option - it works dozens times faster."
   ]
  },
  {
   "cell_type": "code",
   "execution_count": 32,
   "metadata": {
    "collapsed": false
   },
   "outputs": [
    {
     "data": {
      "text/plain": [
       "array([ True,  True, False], dtype=bool)"
      ]
     },
     "execution_count": 32,
     "metadata": {},
     "output_type": "execute_result"
    }
   ],
   "source": [
    "np.in1d(['ab', 'ac', 'something new'], unique_categories)"
   ]
  },
  {
   "cell_type": "markdown",
   "metadata": {},
   "source": [
    "### Handling missing categories\n",
    "\n",
    "When some new category appears in test data, this is always a trouble. Possible solutions:\n",
    "\n",
    "* map randomly to one of present categories (this, i.e. is done by hashing trick)\n",
    "* make a special category 'unknown' where all new values will be mapped. Then special value may be chosen for it.\n",
    "  This approach is more general, but requires more efforts.\n",
    "\n",
    "Below you can find the transformer for second approach:"
   ]
  },
  {
   "cell_type": "code",
   "execution_count": 33,
   "metadata": {
    "collapsed": true
   },
   "outputs": [],
   "source": [
    "class CategoryMapper:\n",
    "    def fit(self, categories):\n",
    "        self.lookup = np.unique(categories)\n",
    "        return self\n",
    "        \n",
    "    def transform(self, categories):\n",
    "        \"\"\"Converts categories to numbers, 0 is reserved for new values (not present in fitted data)\"\"\"\n",
    "        return (np.searchsorted(self.lookup, categories) + 1) * np.in1d(categories, self.lookup)    "
   ]
  },
  {
   "cell_type": "code",
   "execution_count": 34,
   "metadata": {
    "collapsed": false
   },
   "outputs": [
    {
     "data": {
      "text/plain": [
       "array([1, 0])"
      ]
     },
     "execution_count": 34,
     "metadata": {},
     "output_type": "execute_result"
    }
   ],
   "source": [
    "CategoryMapper().fit(categories).transform([unique_categories[0], 'abc'])"
   ]
  },
  {
   "cell_type": "markdown",
   "metadata": {},
   "source": [
    "# 4. numpy.percentile, numpy.bincount\n"
   ]
  },
  {
   "cell_type": "markdown",
   "metadata": {},
   "source": [
    "### Splitting data into bins\n",
    "\n",
    "Splitting data into bins is frequently necessary. Simplest way done e.g. by `numpy.histogram` is splitting region with even bins of same size.\n",
    "\n",
    "This usually works poorly with distributions with long tails (or strange shape) and requires additional transformation to avoid empty or too large bins.\n",
    "\n",
    "However, for most cases creating the bins with equal number of events gives more convenient and stable results.\n",
    "Selecting the edges of bins can be done with `numpy.percentile`."
   ]
  },
  {
   "cell_type": "code",
   "execution_count": 35,
   "metadata": {
    "collapsed": false
   },
   "outputs": [
    {
     "data": {
      "image/png": "[encoded data removed]",
      "text/plain": [
       "<matplotlib.figure.Figure at 0x10ae5e210>"
      ]
     },
     "metadata": {},
     "output_type": "display_data"
    }
   ],
   "source": [
    "x = np.random.exponential(size=20000)\n",
    "_ = plt.hist(x, bins=40)"
   ]
  },
  {
   "cell_type": "code",
   "execution_count": 36,
   "metadata": {
    "collapsed": false
   },
   "outputs": [
    {
     "data": {
      "image/png": "[encoded data removed]",
      "text/plain": [
       "<matplotlib.figure.Figure at 0x10ad9b990>"
      ]
     },
     "metadata": {},
     "output_type": "display_data"
    }
   ],
   "source": [
    "edges = np.percentile(x, np.linspace(0, 100, 20))\n",
    "_ = plt.hist(x, bins=edges, normed=True)"
   ]
  },
  {
   "cell_type": "markdown",
   "metadata": {},
   "source": [
    "the number of events within each bin is equal now."
   ]
  },
  {
   "cell_type": "markdown",
   "metadata": {},
   "source": [
    "### Defining the index of bin\n",
    "\n",
    "Use `numpy.searchsorted` to compute the index of bin for each value in `x`. (`numpy.digitize` is the other option, it does the same).\n",
    "\n",
    "`numpy.searchsorted` assumes that first array is sorted and uses binary search, so it is effective even for large amount of bins."
   ]
  },
  {
   "cell_type": "code",
   "execution_count": 37,
   "metadata": {
    "collapsed": false
   },
   "outputs": [
    {
     "data": {
      "text/plain": [
       "array([10, 12, 14, ...,  7, 12, 11])"
      ]
     },
     "execution_count": 37,
     "metadata": {},
     "output_type": "execute_result"
    }
   ],
   "source": [
    "np.searchsorted(edges, x)"
   ]
  },
  {
   "cell_type": "markdown",
   "metadata": {},
   "source": [
    "###  Counter\n",
    "\n",
    "Need to know number of occurences for each category? Use `numpy.bincount` to compute the statistics:"
   ]
  },
  {
   "cell_type": "code",
   "execution_count": 38,
   "metadata": {
    "collapsed": false
   },
   "outputs": [
    {
     "data": {
      "text/plain": [
       "array([38, 30, 39, ..., 90, 89, 14])"
      ]
     },
     "execution_count": 38,
     "metadata": {},
     "output_type": "execute_result"
    }
   ],
   "source": [
    "new_categories"
   ]
  },
  {
   "cell_type": "markdown",
   "metadata": {},
   "source": [
    "This will compute how many times each category present in the data:\n"
   ]
  },
  {
   "cell_type": "code",
   "execution_count": 39,
   "metadata": {
    "collapsed": false
   },
   "outputs": [
    {
     "data": {
      "text/plain": [
       "array([ 91, 117, 109, 128, 106, 124, 103,  85, 116, 119, 116, 115, 113,\n",
       "       102, 129, 128, 111, 107, 120, 110, 108, 115, 104, 120, 109, 120,\n",
       "       104, 136, 133,  97,  87, 128, 105, 133,  98, 107, 120,  98,  91,\n",
       "       109, 101,  98,  98, 118, 106, 107, 120, 104, 129, 105, 113, 137,\n",
       "       110, 116,  93, 115, 121,  99, 111, 116, 105, 110, 120, 105, 107,\n",
       "       123, 113, 103, 103, 131, 113,  84, 106, 104, 121,  96, 114, 115,\n",
       "       103, 113, 108,  96, 100, 106,  87, 124,  90,  98, 100, 105, 109])"
      ]
     },
     "execution_count": 39,
     "metadata": {},
     "output_type": "execute_result"
    }
   ],
   "source": [
    "np.bincount(new_categories)"
   ]
  },
  {
   "cell_type": "markdown",
   "metadata": {},
   "source": [
    "the same done with `collections.Counter`"
   ]
  },
  {
   "cell_type": "code",
   "execution_count": 40,
   "metadata": {
    "collapsed": false
   },
   "outputs": [
    {
     "data": {
      "text/plain": [
       "array([ 91, 117, 109, 128, 106, 124, 103,  85, 116, 119, 116, 115, 113,\n",
       "       102, 129, 128, 111, 107, 120, 110, 108, 115, 104, 120, 109, 120,\n",
       "       104, 136, 133,  97,  87, 128, 105, 133,  98, 107, 120,  98,  91,\n",
       "       109, 101,  98,  98, 118, 106, 107, 120, 104, 129, 105, 113, 137,\n",
       "       110, 116,  93, 115, 121,  99, 111, 116, 105, 110, 120, 105, 107,\n",
       "       123, 113, 103, 103, 131, 113,  84, 106, 104, 121,  96, 114, 115,\n",
       "       103, 113, 108,  96, 100, 106,  87, 124,  90,  98, 100, 105, 109])"
      ]
     },
     "execution_count": 40,
     "metadata": {},
     "output_type": "execute_result"
    }
   ],
   "source": [
    "from collections import Counter\n",
    "np.array(sorted(Counter(new_categories).items()))[:, 1]"
   ]
  },
  {
   "cell_type": "markdown",
   "metadata": {},
   "source": [
    "### Replace category with number of occurences\n",
    "\n",
    "There are several tricks important to process the categorical features. \n",
    "Most known one is one-hot encoding, but let's speak about others.\n",
    "\n",
    "One of tricks is to replace in each event category (which cannot be processed by most algorithms) with a number of times it presents in data. \n",
    "\n",
    "This can be written in __numpy__ one-liner:"
   ]
  },
  {
   "cell_type": "code",
   "execution_count": 41,
   "metadata": {
    "collapsed": false
   },
   "outputs": [
    {
     "data": {
      "text/plain": [
       "array([ 91,  87, 109, ..., 109, 105, 129])"
      ]
     },
     "execution_count": 41,
     "metadata": {},
     "output_type": "execute_result"
    }
   ],
   "source": [
    "np.bincount(new_categories)[new_categories]"
   ]
  },
  {
   "cell_type": "markdown",
   "metadata": {},
   "source": [
    "### Averaging predictions over category\n",
    "\n",
    "Another important trick: replace category with average prediction for events from this category.\n",
    "\n",
    "This is more tricky, since we need to add weights to `numpy.bincount`:"
   ]
  },
  {
   "cell_type": "code",
   "execution_count": 42,
   "metadata": {
    "collapsed": false
   },
   "outputs": [],
   "source": [
    "predictions = np.random.normal(size=len(new_categories))"
   ]
  },
  {
   "cell_type": "code",
   "execution_count": 43,
   "metadata": {
    "collapsed": false
   },
   "outputs": [
    {
     "data": {
      "text/plain": [
       "array([-0.00368337, -0.07046586,  0.13593826, ...,  0.13194701,\n",
       "       -0.01045916, -0.03112919])"
      ]
     },
     "execution_count": 43,
     "metadata": {},
     "output_type": "execute_result"
    }
   ],
   "source": [
    "means_over_category = np.bincount(new_categories, weights=predictions) / np.bincount(new_categories)\n",
    "means_over_category[new_categories]"
   ]
  },
  {
   "cell_type": "markdown",
   "metadata": {},
   "source": [
    "### Variation of predictions over category\n",
    "\n",
    "The same trick can be applied to measure deviation after invloving some math:\n",
    "$$ \\mathbb{V}x = \\mathbb{E}x^2 - (\\mathbb{E}x)^2 $$"
   ]
  },
  {
   "cell_type": "code",
   "execution_count": 44,
   "metadata": {
    "collapsed": false
   },
   "outputs": [
    {
     "data": {
      "text/plain": [
       "array([ 1.05129159,  0.99395241,  0.93697983, ...,  1.09291603,\n",
       "        0.84810215,  1.34543933])"
      ]
     },
     "execution_count": 44,
     "metadata": {},
     "output_type": "execute_result"
    }
   ],
   "source": [
    "means_of_squares_over_category = np.bincount(new_categories, weights=predictions**2) / np.bincount(new_categories)\n",
    "var_over_category = means_of_squares_over_category - means_over_category ** 2\n",
    "var_over_category[new_categories]"
   ]
  },
  {
   "cell_type": "markdown",
   "metadata": {},
   "source": [
    "You can also assign weights to events and compute weighted mean / weighted variation using the same functions."
   ]
  },
  {
   "cell_type": "markdown",
   "metadata": {},
   "source": [
    "### Even faster inverse permutation\n",
    "\n",
    "As was said, numpy.argsort returns inverse permutation, but it takes $O(n \\log(n))$ time, while computing inverse permutation should take $O(n)$.\n",
    "\n",
    "This optimal way (`inplace sort`) can be written in numpy."
   ]
  },
  {
   "cell_type": "code",
   "execution_count": 45,
   "metadata": {
    "collapsed": false
   },
   "outputs": [
    {
     "name": "stdout",
     "output_type": "stream",
     "text": [
      "[3 2 7 9 8 6 1 4 5 0]\n",
      "[3 2 7 9 8 6 1 4 5 0]\n"
     ]
    }
   ],
   "source": [
    "print(np.argsort(permutation))\n",
    "inverse_permutation = np.empty(len(permutation), dtype=np.int)\n",
    "inverse_permutation[permutation] = np.arange(len(permutation))\n",
    "print(inverse_permutation)"
   ]
  },
  {
   "cell_type": "markdown",
   "metadata": {},
   "source": [
    "## 5. Numpy.ufunc.at\n",
    "\n",
    "To proceed futher, we need to know that there is class of binary (and unary) functions: `numpy.ufuncs`\n",
    "\n",
    "Examples: `numpy.add`, `numpy.subtract`, `numpy.multiply`, `numpy.maximum`, `numpy.minimum`\n",
    "\n",
    "In the following example we cook a new column with maximal predictions over category using `ufunc.at`"
   ]
  },
  {
   "cell_type": "code",
   "execution_count": 46,
   "metadata": {
    "collapsed": false
   },
   "outputs": [
    {
     "name": "stdout",
     "output_type": "stream",
     "text": [
      "[ 2.28802415  2.55736371  2.15283786 ...,  2.90273049  2.39761025\n",
      "  3.53651835]\n"
     ]
    }
   ],
   "source": [
    "max_over_category = np.zeros(new_categories.max() + 1) - np.infty\n",
    "np.maximum.at(max_over_category, new_categories, predictions)\n",
    "\n",
    "print(max_over_category[new_categories])"
   ]
  },
  {
   "cell_type": "markdown",
   "metadata": {},
   "source": [
    "Important note: `numpy.add.at` and `numpy.bincount` are very similar, but latter is dozens of times faster. Always prefer it to `numpy.add.at`"
   ]
  },
  {
   "cell_type": "code",
   "execution_count": 47,
   "metadata": {
    "collapsed": false
   },
   "outputs": [
    {
     "name": "stdout",
     "output_type": "stream",
     "text": [
      "1000 loops, best of 3: 1.93 ms per loop\n",
      "10000 loops, best of 3: 31.1 µs per loop\n"
     ]
    }
   ],
   "source": [
    "%timeit np.add.at(max_over_category, new_categories, predictions)\n",
    "%timeit np.bincount(new_categories, weights=predictions)"
   ]
  },
  {
   "cell_type": "markdown",
   "metadata": {},
   "source": [
    "### Multidimensional statistics: numpy.add.at and smart indexing\n",
    "\n",
    "When need to compute number of times each combination met, there are two ways:\n",
    "1. convert couple of variables to new variable, e.g. by feature1 * (numpy.max(feature2) + 1) + feature2\n",
    "2. create multidimensional table\n",
    "\n",
    "I prefer first, code below is demonstration of second approach and it's benefits."
   ]
  },
  {
   "cell_type": "code",
   "execution_count": 48,
   "metadata": {
    "collapsed": false
   },
   "outputs": [],
   "source": [
    "first_category = np.random.randint(0, 100, len(new_categories))\n",
    "second_category = np.random.randint(0, 100, len(new_categories))"
   ]
  },
  {
   "cell_type": "code",
   "execution_count": 49,
   "metadata": {
    "collapsed": false
   },
   "outputs": [],
   "source": [
    "counters = np.zeros([first_category.max() + 1, second_category.max() + 1])\n",
    "np.add.at(counters, [first_category, second_category], 1)"
   ]
  },
  {
   "cell_type": "markdown",
   "metadata": {},
   "source": [
    "Now some useful things we can do with colected statistic. First thing is create feature, for which we use fancy indexing:"
   ]
  },
  {
   "cell_type": "code",
   "execution_count": 50,
   "metadata": {
    "collapsed": false
   },
   "outputs": [
    {
     "data": {
      "text/plain": [
       "array([ 2.,  1.,  3., ...,  1.,  1.,  2.])"
      ]
     },
     "execution_count": 50,
     "metadata": {},
     "output_type": "execute_result"
    }
   ],
   "source": [
    "counters[first_category, second_category]"
   ]
  },
  {
   "cell_type": "markdown",
   "metadata": {},
   "source": [
    "We can also infer different statistics like:"
   ]
  },
  {
   "cell_type": "code",
   "execution_count": 51,
   "metadata": {
    "collapsed": false
   },
   "outputs": [
    {
     "data": {
      "text/plain": [
       "array([ 103.,   83.,   99., ...,   88.,   93.,   99.])"
      ]
     },
     "execution_count": 51,
     "metadata": {},
     "output_type": "execute_result"
    }
   ],
   "source": [
    "# occurences of second category\n",
    "counters.sum(axis=0)[second_category]"
   ]
  },
  {
   "cell_type": "code",
   "execution_count": 52,
   "metadata": {
    "collapsed": false
   },
   "outputs": [
    {
     "data": {
      "text/plain": [
       "array([ 4.,  3.,  5., ...,  5.,  4.,  5.])"
      ]
     },
     "execution_count": 52,
     "metadata": {},
     "output_type": "execute_result"
    }
   ],
   "source": [
    "# maximal occurences of second category with same value of first category\n",
    "counters.max(axis=0)[second_category]"
   ]
  },
  {
   "cell_type": "code",
   "execution_count": 53,
   "metadata": {
    "collapsed": false
   },
   "outputs": [
    {
     "data": {
      "text/plain": [
       "array([ 1.,  1.,  0., ...,  0.,  2.,  0.])"
      ]
     },
     "execution_count": 53,
     "metadata": {},
     "output_type": "execute_result"
    }
   ],
   "source": [
    "# number of occurences of second category with fixed first category:\n",
    "counters[42, second_category]"
   ]
  },
  {
   "cell_type": "markdown",
   "metadata": {},
   "source": [
    "* you are not limited to `numpy.add`, remember there are other ufuncs.\n",
    "* Few space to keep whole matrix? Use `scipy.sparse` if there are too many zero elements. \n",
    "  Alternatively, you can use matrix decompositions to keep approximation of matrix and compute result on-the-fly."
   ]
  },
  {
   "cell_type": "markdown",
   "metadata": {},
   "source": [
    "### Computing ROC curve\n",
    "\n",
    "As an important exercise, let's implement the computation of ROC curve. (interactive demo of ROC curve may be found [here](https://arogozhnikov.github.io/2015/10/05/roc-curve.html) )\n",
    "\n",
    "We will write the same as `sklearn.metrics.roc_curve` (actually, simplified version of it).\n",
    "\n",
    "ROC curve takes three arrays: labels (binary, 0 or 1), predictions (real-valued) and weights.\n"
   ]
  },
  {
   "cell_type": "code",
   "execution_count": 54,
   "metadata": {
    "collapsed": true
   },
   "outputs": [],
   "source": [
    "def roc_curve(labels, predictions, sample_weight):\n",
    "    sig_weights = sample_weight * (labels == 1)\n",
    "    bck_weights = sample_weight * (labels == 0)\n",
    "    thresholds, predictions = np.unique(predictions, return_inverse=True)\n",
    "    tpr = np.bincount(predictions, weights=sig_weights)[::-1].cumsum()\n",
    "    fpr = np.bincount(predictions, weights=bck_weights)[::-1].cumsum()\n",
    "    tpr /= tpr[-1]\n",
    "    fpr /= fpr[-1]\n",
    "    return fpr, tpr, thresholds[::-1]"
   ]
  },
  {
   "cell_type": "code",
   "execution_count": 55,
   "metadata": {
    "collapsed": true
   },
   "outputs": [],
   "source": [
    "np.random.seed(1)\n",
    "size = 1000\n",
    "labels = (np.random.random(size) > 0.5) * 1\n",
    "predictions = np.random.normal(size=size)\n",
    "weights = np.random.exponential(size=size)"
   ]
  },
  {
   "cell_type": "code",
   "execution_count": 56,
   "metadata": {
    "collapsed": false
   },
   "outputs": [],
   "source": [
    "fpr1, tpr1, thr1 = roc_curve(labels, predictions, weights)"
   ]
  },
  {
   "cell_type": "code",
   "execution_count": 57,
   "metadata": {
    "collapsed": false
   },
   "outputs": [
    {
     "data": {
      "text/plain": [
       "(True, True, True)"
      ]
     },
     "execution_count": 57,
     "metadata": {},
     "output_type": "execute_result"
    }
   ],
   "source": [
    "# sometims sklearn adds one more element to all arrays.\n",
    "# I have no idea why this is needed and when, but in this case all answers turn to False\n",
    "from sklearn.metrics import roc_curve as sklearn_roc_curve\n",
    "fpr2, tpr2, thr2 = sklearn_roc_curve(labels, predictions, sample_weight=weights)\n",
    "np.allclose(fpr1, fpr2), np.allclose(tpr1, tpr2), np.allclose(thr1, thr2)"
   ]
  },
  {
   "cell_type": "markdown",
   "metadata": {},
   "source": [
    "### Weighted Kolmogorov-Smirnov distance\n",
    "\n",
    "ROC curve is an important object by itself and freqently used in ML to compare distribution, \n",
    "but the magic is that it contains all order-based information about original distributions.\n",
    "\n",
    "Next we compute KS distance based on ROC curve:\n",
    "\n",
    "$$ KS = \\max_x \\left| F_1(x) - F_2(x) \\right| $$\n",
    "\n",
    "(Order-based information == information, which is preserved under monotonic transformations)"
   ]
  },
  {
   "cell_type": "code",
   "execution_count": 58,
   "metadata": {
    "collapsed": true
   },
   "outputs": [],
   "source": [
    "def ks_2samp(distribution1, distribution2, weights1, weights2):\n",
    "    labels = np.array([0] * len(distribution1) + [1] * len(distribution2))\n",
    "    predictions = np.concatenate([distribution1, distribution2])\n",
    "    weights = np.concatenate([weights1, weights2])\n",
    "\n",
    "    fpr, tpr, _ = roc_curve(labels, predictions, sample_weight=weights)\n",
    "    return np.max(np.abs(fpr - tpr))"
   ]
  },
  {
   "cell_type": "code",
   "execution_count": 59,
   "metadata": {
    "collapsed": true
   },
   "outputs": [],
   "source": [
    "data1 = np.random.normal(loc=0, size=size)\n",
    "data2 = np.random.normal(loc=1, size=size)\n",
    "weights1 = np.random.exponential(size=size) \n",
    "weights2 = np.random.exponential(size=size) "
   ]
  },
  {
   "cell_type": "markdown",
   "metadata": {},
   "source": [
    "__Compare results__ with standard function:"
   ]
  },
  {
   "cell_type": "code",
   "execution_count": 60,
   "metadata": {
    "collapsed": false
   },
   "outputs": [
    {
     "name": "stdout",
     "output_type": "stream",
     "text": [
      "0.416\n",
      "0.416\n"
     ]
    }
   ],
   "source": [
    "from scipy.stats import ks_2samp as ks_2samp_scipy\n",
    "print( ks_2samp(data1, data2, weights1=np.ones(size), weights2=np.ones(size)) )\n",
    "print( ks_2samp_scipy(data1, data2)[0] )"
   ]
  },
  {
   "cell_type": "markdown",
   "metadata": {},
   "source": [
    "Important moment that written function supports weights, while scipy version doesn't."
   ]
  },
  {
   "cell_type": "markdown",
   "metadata": {},
   "source": [
    "__TODO:__ optimal F1, optimal accuracy based on ROC curve."
   ]
  },
  {
   "cell_type": "markdown",
   "metadata": {},
   "source": [
    "## Conclusion\n",
    "\n",
    "Many things can be written in numpy in efficient way, moreover resulting code will be short and (surpise!) more readable. \n",
    "\n",
    "But this skill requires much practice.\n",
    "\n",
    "## See also\n",
    "\n",
    "* Second part of post: [numpy tips and tricks 2](/2015/09/30/NumpyTipsAndTricks2.html)\n",
    "* [Numpy log-likelihood benchmark](/2015/09/08/SpeedBenchmarks.html)\n"
   ]
  }
 ],
 "metadata": {
  "kernelspec": {
   "display_name": "Python 2",
   "language": "python",
   "name": "python2"
  },
  "language_info": {
   "codemirror_mode": {
    "name": "ipython",
    "version": 2
   },
   "file_extension": ".py",
   "mimetype": "text/x-python",
   "name": "python",
   "nbconvert_exporter": "python",
   "pygments_lexer": "ipython2",
   "version": "2.7.5"
  }
 },
 "nbformat": 4,
 "nbformat_minor": 0
}
